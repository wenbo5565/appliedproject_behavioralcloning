{
 "cells": [
  {
   "cell_type": "code",
   "execution_count": 46,
   "metadata": {
    "collapsed": true
   },
   "outputs": [],
   "source": [
    "import csv\n",
    "import matplotlib.pyplot as plt\n",
    "import numpy as np\n",
    "from random import shuffle\n",
    "from keras.models import Sequential\n",
    "from keras.layers import Flatten,Dense,Lambda\n",
    "from keras.layers import Cropping2D,Convolution2D\n",
    "from keras import regularizers\n",
    "from keras import losses"
   ]
  },
  {
   "cell_type": "code",
   "execution_count": 47,
   "metadata": {},
   "outputs": [
    {
     "data": {
      "text/plain": [
       "[name: \"/cpu:0\"\n",
       " device_type: \"CPU\"\n",
       " memory_limit: 268435456\n",
       " locality {\n",
       " }\n",
       " incarnation: 12225522018622924134, name: \"/gpu:0\"\n",
       " device_type: \"GPU\"\n",
       " memory_limit: 37748736\n",
       " locality {\n",
       "   bus_id: 1\n",
       " }\n",
       " incarnation: 9064188908331637558\n",
       " physical_device_desc: \"device: 0, name: GRID K520, pci bus id: 0000:00:03.0\"]"
      ]
     },
     "execution_count": 47,
     "metadata": {},
     "output_type": "execute_result"
    }
   ],
   "source": [
    "from tensorflow.python.client import device_lib\n",
    "device_lib.list_local_devices()"
   ]
  },
  {
   "cell_type": "markdown",
   "metadata": {},
   "source": [
    "### Read in data path"
   ]
  },
  {
   "cell_type": "code",
   "execution_count": 51,
   "metadata": {},
   "outputs": [
    {
     "name": "stdout",
     "output_type": "stream",
     "text": [
      "number of training samples :, 8230\n",
      "number of validation samples :, 2058\n"
     ]
    }
   ],
   "source": [
    "samples = [] # empty list to save data path\n",
    "\n",
    "folder_path = \"./data\"\n",
    "# extract image path\n",
    "with open(folder_path+'/driving_log.csv') as csvfile:\n",
    "    reader = csv.reader(csvfile)\n",
    "    for line in reader:\n",
    "        samples.append(line)\n",
    "        \n",
    "# samples = samples[:9284] # extract\n",
    "\n",
    "from sklearn.model_selection import train_test_split\n",
    "train_samples, validation_samples = train_test_split(samples, test_size=0.2) # train_samples and test_samples include path\n",
    "print('number of training samples :,',len(train_samples))\n",
    "print('number of validation samples :,',len(validation_samples))"
   ]
  },
  {
   "cell_type": "markdown",
   "metadata": {},
   "source": [
    "### Build generator to batch-process data"
   ]
  },
  {
   "cell_type": "code",
   "execution_count": 52,
   "metadata": {
    "collapsed": true
   },
   "outputs": [],
   "source": [
    "# use generator\n",
    "def generator(samples,batch_size=32):\n",
    "    num_samples = len(samples)\n",
    "    while 1:\n",
    "        shuffle(samples)\n",
    "        for offset in range(0,num_samples,batch_size):\n",
    "            batch_samples = samples[offset:offset + batch_size]\n",
    "            \n",
    "            images = []\n",
    "            angles = []\n",
    "            \n",
    "            for batch_sample in batch_samples:\n",
    "                for i in range(0,2): # extract center, left and right camera images\n",
    "                    name = './data/IMG/' + batch_sample[i].split(\"\\\\\")[-1] # extract file name\n",
    "                    image = plt.imread(name)\n",
    "                    angle = float(batch_sample[3])\n",
    "                    images.append(image)\n",
    "                    angles.append(angle)\n",
    "                    X_train = np.array(images)\n",
    "                    y_train = np.array(angles)\n",
    "            yield (X_train, y_train)\n",
    "            \n",
    "train_generator = generator(train_samples, batch_size=32)\n",
    "validation_generator = generator(validation_samples,batch_size=32)"
   ]
  },
  {
   "cell_type": "markdown",
   "metadata": {},
   "source": [
    "### Build a neural network"
   ]
  },
  {
   "cell_type": "code",
   "execution_count": 53,
   "metadata": {},
   "outputs": [
    {
     "name": "stdout",
     "output_type": "stream",
     "text": [
      "Epoch 1/15\n",
      "258/258 [==============================] - 54s 210ms/step - loss: 0.0448 - val_loss: 0.0401\n",
      "Epoch 2/15\n",
      "258/258 [==============================] - 52s 203ms/step - loss: 0.0414 - val_loss: 0.0368\n",
      "Epoch 3/15\n",
      "258/258 [==============================] - 52s 203ms/step - loss: 0.0408 - val_loss: 0.0373\n",
      "Epoch 4/15\n",
      "258/258 [==============================] - 52s 200ms/step - loss: 0.0399 - val_loss: 0.0363\n",
      "Epoch 5/15\n",
      "258/258 [==============================] - 52s 203ms/step - loss: 0.0392 - val_loss: 0.0369\n",
      "Epoch 6/15\n",
      "258/258 [==============================] - 52s 203ms/step - loss: 0.0390 - val_loss: 0.0369\n",
      "Epoch 7/15\n",
      "258/258 [==============================] - 52s 203ms/step - loss: 0.0382 - val_loss: 0.0366\n",
      "Epoch 8/15\n",
      "258/258 [==============================] - 52s 200ms/step - loss: 0.0371 - val_loss: 0.0359\n",
      "Epoch 9/15\n",
      "258/258 [==============================] - 52s 203ms/step - loss: 0.0361 - val_loss: 0.0350\n",
      "Epoch 10/15\n",
      "258/258 [==============================] - 53s 205ms/step - loss: 0.0345 - val_loss: 0.0348\n",
      "Epoch 11/15\n",
      "258/258 [==============================] - 52s 203ms/step - loss: 0.0322 - val_loss: 0.0345\n",
      "Epoch 12/15\n",
      "258/258 [==============================] - 51s 198ms/step - loss: 0.0305 - val_loss: 0.0344\n",
      "Epoch 13/15\n",
      "258/258 [==============================] - 53s 205ms/step - loss: 0.0277 - val_loss: 0.0345\n",
      "Epoch 14/15\n",
      "258/258 [==============================] - 52s 203ms/step - loss: 0.0247 - val_loss: 0.0350\n",
      "Epoch 15/15\n",
      "258/258 [==============================] - 53s 204ms/step - loss: 0.0222 - val_loss: 0.0364\n"
     ]
    },
    {
     "data": {
      "image/png": "[encoded data removed]",
      "text/plain": [
       "<matplotlib.figure.Figure at 0x7f98eccacf98>"
      ]
     },
     "metadata": {},
     "output_type": "display_data"
    }
   ],
   "source": [
    "# ================================\n",
    "# Build NN artitecture\n",
    "# ================================\n",
    "batch_size = 32\n",
    "batches_per_epoch_train = len(train_samples)//batch_size + 1\n",
    "batches_per_epoch_val = len(validation_samples)//batch_size + 1\n",
    "# the current NN artitecture is based on Nvidia's paper End to End Learning for Self-Driving Cars\n",
    "img_shape = (160,320,3)\n",
    "model = Sequential()\n",
    "model.add(Cropping2D(cropping=((50,20),(0,0)),input_shape=img_shape)) # crop off top 50 pixels and bottom 20 pixels\n",
    "model.add(Lambda(lambda x: x/255.0 - 0.5, input_shape=img_shape))\n",
    "model.add(Convolution2D(24,(5,5),strides=(2,2),activation=\"relu\"))\n",
    "model.add(Convolution2D(36,(5,5),strides=(2,2),activation=\"relu\"))\n",
    "model.add(Convolution2D(48,(5,5),strides=(2,2),activation=\"relu\"))\n",
    "model.add(Convolution2D(64,(3,3),strides=(2,2),activation=\"relu\"))\n",
    "model.add(Convolution2D(64,(3,3),strides=(2,2),activation=\"relu\"))\n",
    "model.add(Flatten())\n",
    "model.add(Dense(100))\n",
    "model.add(Dense(50))\n",
    "model.add(Dense(10))\n",
    "model.add(Dense(1))\n",
    "model.compile(loss=losses.mean_squared_error,optimizer='adam')\n",
    "\n",
    "# ==========================================\n",
    "# Build training and visualization pipeline\n",
    "# ==========================================\n",
    "history_object = model.fit_generator(train_generator, validation_data = validation_generator, \n",
    "                                     steps_per_epoch = batches_per_epoch_train,\n",
    "                                     validation_steps = batches_per_epoch_val,\n",
    "                                     epochs=15, verbose=1)\n",
    "\n",
    "# plot the training and validation loss for each epoch\n",
    "plt.plot(history_object.history['loss'])\n",
    "plt.plot(history_object.history['val_loss'])\n",
    "plt.title('model mean squared error loss')\n",
    "plt.ylabel('mean squared error loss')\n",
    "plt.xlabel('epoch')\n",
    "plt.legend(['training set', 'validation set'], loc='upper right')\n",
    "plt.show()\n",
    "\n",
    "# save model\n",
    "model.save('model.h5')\n"
   ]
  },
  {
   "cell_type": "code",
   "execution_count": null,
   "metadata": {
    "collapsed": true
   },
   "outputs": [],
   "source": []
  }
 ],
 "metadata": {
  "kernelspec": {
   "display_name": "Python 3",
   "language": "python",
   "name": "python3"
  },
  "language_info": {
   "codemirror_mode": {
    "name": "ipython",
    "version": 3
   },
   "file_extension": ".py",
   "mimetype": "text/x-python",
   "name": "python",
   "nbconvert_exporter": "python",
   "pygments_lexer": "ipython3",
   "version": "3.5.0"
  },
  "widgets": {
   "state": {},
   "version": "1.1.2"
  }
 },
 "nbformat": 4,
 "nbformat_minor": 2
}
